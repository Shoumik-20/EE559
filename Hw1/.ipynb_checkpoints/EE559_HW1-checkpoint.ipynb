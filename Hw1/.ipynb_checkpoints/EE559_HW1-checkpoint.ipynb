{
 "cells": [
  {
   "cell_type": "code",
   "execution_count": 1,
   "id": "83185c67",
   "metadata": {},
   "outputs": [],
   "source": [
    "import numpy as np\n",
    "import matplotlib.pyplot as plt\n",
    "import pandas as pd"
   ]
  },
  {
   "cell_type": "code",
   "execution_count": 4,
   "id": "20550cab",
   "metadata": {},
   "outputs": [],
   "source": [
    "import os"
   ]
  },
  {
   "cell_type": "code",
   "execution_count": 5,
   "id": "87a71076",
   "metadata": {},
   "outputs": [
    {
     "data": {
      "text/plain": [
       "'/Users/shoumik20/Shoumik_work/Repos/EE559/Hw1'"
      ]
     },
     "execution_count": 5,
     "metadata": {},
     "output_type": "execute_result"
    }
   ],
   "source": [
    "os.getcwd()"
   ]
  },
  {
   "cell_type": "code",
   "execution_count": 21,
   "id": "1fefc040",
   "metadata": {},
   "outputs": [],
   "source": [
    "df_synthetic1_train = pd.read_csv('python3/synthetic1_train.csv', header = None)\n",
    "df_synthetic2_train = pd.read_csv('python3/synthetic2_train.csv',header = None)\n",
    "df_wine_train = pd.read_csv('python3/wine_train.csv', header = None)\n",
    "df_synthetic1_test = pd.read_csv('python3/synthetic1_test.csv', header = None)\n",
    "df_synthetic2_test = pd.read_csv('python3/synthetic2_test.csv', header = None)\n",
    "df_wine_test = pd.read_csv('python3/wine_test.csv', header = None)"
   ]
  },
  {
   "cell_type": "code",
   "execution_count": 34,
   "id": "c291a2a3",
   "metadata": {},
   "outputs": [],
   "source": [
    "s1_train_f = df_synthetic1_train.loc[:,[0,1]].to_numpy()\n",
    "s1_train_l = df_synthetic1_train.loc[:,[2]].to_numpy()"
   ]
  },
  {
   "cell_type": "code",
   "execution_count": 75,
   "id": "f5c03a04",
   "metadata": {},
   "outputs": [],
   "source": [
    "ind_1 = np.where(s1_train_l == 1)\n",
    "ind_2 = np.where(s1_train_l == 2)\n"
   ]
  },
  {
   "cell_type": "code",
   "execution_count": 79,
   "id": "1c3aa610",
   "metadata": {},
   "outputs": [
    {
     "data": {
      "text/plain": [
       "array([[ 4.9553e-01,  1.3221e+00],\n",
       "       [-7.6615e+00, -5.7644e+00],\n",
       "       [-5.1141e-01,  1.9586e+00],\n",
       "       [ 2.3214e+00,  5.0545e+00],\n",
       "       [-2.0195e+00,  3.4092e-01],\n",
       "       [-2.9861e+00, -3.3190e+00],\n",
       "       [-6.5189e+00, -4.7777e+00],\n",
       "       [ 2.6641e-01,  2.3592e+00],\n",
       "       [-4.8785e+00, -3.5146e+00],\n",
       "       [-4.8374e+00, -2.8104e+00],\n",
       "       [ 7.0224e-01,  3.3218e+00],\n",
       "       [ 5.7500e+00,  6.9757e+00],\n",
       "       [-6.8286e+00, -5.7670e+00],\n",
       "       [-1.7667e+00, -5.6320e-01],\n",
       "       [ 4.0435e-01,  1.8636e+00],\n",
       "       [-1.5761e+00, -6.3041e-01],\n",
       "       [ 2.1320e+00,  5.0140e+00],\n",
       "       [-5.1850e+00, -3.5251e+00],\n",
       "       [ 3.2005e+00,  2.3888e+00],\n",
       "       [-5.9964e-01,  1.9578e+00],\n",
       "       [-1.5437e+00,  3.2573e-01],\n",
       "       [-7.8170e+00, -5.1727e+00],\n",
       "       [-3.6526e+00, -3.2991e+00],\n",
       "       [-7.0529e-01,  5.0600e-03],\n",
       "       [-3.0048e+00, -6.8425e-01],\n",
       "       [-2.3935e+00, -1.9034e+00],\n",
       "       [-9.4264e-01, -4.6249e-01],\n",
       "       [-1.9343e+00,  2.3832e-01],\n",
       "       [-1.2830e+00, -7.6194e-01],\n",
       "       [-3.8848e-01,  1.1461e+00],\n",
       "       [-1.1151e+00,  2.0278e+00],\n",
       "       [-1.7090e+00,  8.7660e-01],\n",
       "       [ 1.9344e+00,  4.0634e+00],\n",
       "       [-4.2990e+00, -2.2258e+00],\n",
       "       [-5.9648e+00, -6.0329e+00],\n",
       "       [-4.1375e+00, -8.2818e-01],\n",
       "       [-4.0518e+00, -1.7807e+00],\n",
       "       [ 3.9041e+00,  6.4578e+00],\n",
       "       [-7.0233e+00, -4.9286e+00],\n",
       "       [-1.1953e+00,  2.5819e+00],\n",
       "       [-1.2685e+00,  1.1212e+00],\n",
       "       [ 1.3147e-01,  2.5571e+00],\n",
       "       [-6.8244e+00, -5.7910e+00],\n",
       "       [ 4.1980e+00,  5.8591e+00],\n",
       "       [-3.3886e+00, -9.8005e-01],\n",
       "       [ 1.3651e+00,  2.1773e+00],\n",
       "       [-5.7778e+00, -3.8964e+00],\n",
       "       [ 7.5680e+00,  8.2219e+00],\n",
       "       [-3.9977e+00, -1.9570e+00],\n",
       "       [-8.2418e+00, -4.6721e+00],\n",
       "       [-1.0683e+00, -4.0974e+00],\n",
       "       [ 5.4001e+00,  2.4341e+00],\n",
       "       [ 5.1599e+00,  2.5871e+00],\n",
       "       [ 3.0834e+00, -1.0177e+00],\n",
       "       [ 4.1844e+00,  1.9339e+00],\n",
       "       [ 3.9144e-01, -1.5853e+00],\n",
       "       [ 4.4168e+00,  1.2120e-01],\n",
       "       [ 6.2230e+00,  5.0323e+00],\n",
       "       [ 1.2892e+00, -2.9687e-01],\n",
       "       [ 8.6351e+00,  5.7328e+00],\n",
       "       [ 1.8482e+00, -2.9414e+00],\n",
       "       [-8.7547e-01, -4.3877e+00],\n",
       "       [-4.2572e-01, -7.3642e+00],\n",
       "       [-9.2330e-01, -5.1256e+00],\n",
       "       [-8.1171e-02, -2.4433e+00],\n",
       "       [ 1.0514e+00, -3.0568e+00],\n",
       "       [ 6.3585e+00,  2.4300e+00],\n",
       "       [ 2.7006e+00, -2.5733e-01],\n",
       "       [-7.5879e-01, -1.2143e+00],\n",
       "       [ 5.1726e+00,  8.6644e-01],\n",
       "       [ 2.2665e+00, -8.2415e-01],\n",
       "       [ 7.1770e-01, -1.7864e+00],\n",
       "       [ 8.0069e+00,  4.1797e+00],\n",
       "       [ 1.0234e+00, -2.7906e+00],\n",
       "       [ 4.8224e+00,  2.2581e+00],\n",
       "       [ 1.5403e+00, -1.2853e+00],\n",
       "       [ 6.2164e+00,  4.5979e+00],\n",
       "       [ 6.6096e+00,  3.8412e+00],\n",
       "       [ 3.1687e+00, -4.2044e-01],\n",
       "       [ 4.2380e+00,  1.7191e+00],\n",
       "       [-1.1387e-01, -1.2830e+00],\n",
       "       [ 2.0702e+00, -8.5223e-01],\n",
       "       [ 2.3850e+00, -1.1126e-01],\n",
       "       [ 3.0375e+00,  4.9356e-02],\n",
       "       [ 4.4861e+00,  2.4781e+00],\n",
       "       [ 1.7149e+00, -1.6982e+00],\n",
       "       [ 2.2596e+00, -6.1605e-01],\n",
       "       [ 3.8097e+00,  5.3026e-02],\n",
       "       [ 2.2318e+00, -2.1668e+00],\n",
       "       [-2.0323e-01, -2.6196e+00],\n",
       "       [ 7.2327e+00,  6.2794e+00],\n",
       "       [ 4.0678e+00,  1.5098e+00],\n",
       "       [ 4.9854e-01, -1.0909e+00],\n",
       "       [ 7.5293e+00,  3.8676e+00],\n",
       "       [-2.1824e+00, -2.9826e+00],\n",
       "       [ 3.8817e+00, -8.3276e-03],\n",
       "       [ 7.0057e-01, -2.7706e+00],\n",
       "       [ 5.1785e+00,  1.4548e+00],\n",
       "       [ 3.4706e+00,  1.5744e+00],\n",
       "       [ 6.6011e+00,  3.8681e+00]])"
      ]
     },
     "execution_count": 79,
     "metadata": {},
     "output_type": "execute_result"
    }
   ],
   "source": [
    "s1_train_f\n"
   ]
  },
  {
   "cell_type": "code",
   "execution_count": null,
   "id": "3c71263a",
   "metadata": {},
   "outputs": [],
   "source": []
  }
 ],
 "metadata": {
  "kernelspec": {
   "display_name": "Python 3 (ipykernel)",
   "language": "python",
   "name": "python3"
  },
  "language_info": {
   "codemirror_mode": {
    "name": "ipython",
    "version": 3
   },
   "file_extension": ".py",
   "mimetype": "text/x-python",
   "name": "python",
   "nbconvert_exporter": "python",
   "pygments_lexer": "ipython3",
   "version": "3.8.11"
  }
 },
 "nbformat": 4,
 "nbformat_minor": 5
}
