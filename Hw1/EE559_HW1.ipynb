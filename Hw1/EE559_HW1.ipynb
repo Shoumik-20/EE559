{
 "cells": [
  {
   "cell_type": "code",
   "execution_count": 240,
   "id": "767a909a",
   "metadata": {},
   "outputs": [],
   "source": [
    "import numpy as np\n",
    "import matplotlib.pyplot as plt\n",
    "import pandas as pd"
   ]
  },
  {
   "cell_type": "code",
   "execution_count": 241,
   "id": "a0739b1f",
   "metadata": {},
   "outputs": [],
   "source": [
    "import os"
   ]
  },
  {
   "cell_type": "code",
   "execution_count": 242,
   "id": "00de4bdc",
   "metadata": {},
   "outputs": [
    {
     "data": {
      "text/plain": [
       "'/Users/shoumik20/Shoumik_work/Repos/EE559/Hw1'"
      ]
     },
     "execution_count": 242,
     "metadata": {},
     "output_type": "execute_result"
    }
   ],
   "source": [
    "os.getcwd()"
   ]
  },
  {
   "cell_type": "code",
   "execution_count": 243,
   "id": "dcc96425",
   "metadata": {},
   "outputs": [],
   "source": [
    "df_synthetic1_train = pd.read_csv('python3/synthetic1_train.csv', header = None)\n",
    "df_synthetic2_train = pd.read_csv('python3/synthetic2_train.csv',header = None)\n",
    "df_wine_train = pd.read_csv('python3/wine_train.csv', header = None)\n",
    "df_synthetic1_test = pd.read_csv('python3/synthetic1_test.csv', header = None)\n",
    "df_synthetic2_test = pd.read_csv('python3/synthetic2_test.csv', header = None)\n",
    "df_wine_test = pd.read_csv('python3/wine_test.csv', header = None)"
   ]
  },
  {
   "cell_type": "code",
   "execution_count": 262,
   "id": "c9c58928",
   "metadata": {},
   "outputs": [],
   "source": [
    "s1_train_f = df_synthetic1_train.iloc[:,[0,1]].to_numpy()\n",
    "s1_train_l = df_synthetic1_train.iloc[:,[-1]].to_numpy().reshape(-1)"
   ]
  },
  {
   "cell_type": "code",
   "execution_count": 263,
   "id": "b86e6d4e",
   "metadata": {},
   "outputs": [
    {
     "name": "stdout",
     "output_type": "stream",
     "text": [
      "[50 51 52 53 54 55 56 57 58 59 60 61 62 63 64 65 66 67 68 69 70 71 72 73\n",
      " 74 75 76 77 78 79 80 81 82 83 84 85 86 87 88 89 90 91 92 93 94 95 96 97\n",
      " 98 99]\n"
     ]
    }
   ],
   "source": [
    "ind_1 = np.where(s1_train_l == 1)\n",
    "ind_2 = np.where(s1_train_l == 2)\n",
    "print(ind_2[0])"
   ]
  },
  {
   "cell_type": "code",
   "execution_count": 280,
   "id": "cda90619",
   "metadata": {},
   "outputs": [
    {
     "ename": "AxisError",
     "evalue": "axis 1 is out of bounds for array of dimension 1",
     "output_type": "error",
     "traceback": [
      "\u001b[0;31m---------------------------------------------------------------------------\u001b[0m",
      "\u001b[0;31mAxisError\u001b[0m                                 Traceback (most recent call last)",
      "\u001b[0;32m/var/folders/0x/5mf4sypn31qg67vy29tj9mhc0000gn/T/ipykernel_34677/1612440958.py\u001b[0m in \u001b[0;36m<module>\u001b[0;34m\u001b[0m\n\u001b[1;32m      1\u001b[0m \u001b[0ms1_mean_l1\u001b[0m \u001b[0;34m=\u001b[0m \u001b[0ms1_train_f\u001b[0m\u001b[0;34m[\u001b[0m\u001b[0mind_1\u001b[0m\u001b[0;34m[\u001b[0m\u001b[0;36m0\u001b[0m\u001b[0;34m]\u001b[0m\u001b[0;34m]\u001b[0m\u001b[0;34m.\u001b[0m\u001b[0mmean\u001b[0m\u001b[0;34m(\u001b[0m\u001b[0maxis\u001b[0m\u001b[0;34m=\u001b[0m\u001b[0;36m0\u001b[0m\u001b[0;34m)\u001b[0m\u001b[0;34m\u001b[0m\u001b[0;34m\u001b[0m\u001b[0m\n\u001b[1;32m      2\u001b[0m \u001b[0ms1_mean_l2\u001b[0m \u001b[0;34m=\u001b[0m \u001b[0ms1_train_f\u001b[0m\u001b[0;34m[\u001b[0m\u001b[0mind_2\u001b[0m\u001b[0;34m[\u001b[0m\u001b[0;36m0\u001b[0m\u001b[0;34m]\u001b[0m\u001b[0;34m]\u001b[0m\u001b[0;34m.\u001b[0m\u001b[0mmean\u001b[0m\u001b[0;34m(\u001b[0m\u001b[0maxis\u001b[0m\u001b[0;34m=\u001b[0m\u001b[0;36m0\u001b[0m\u001b[0;34m)\u001b[0m\u001b[0;34m\u001b[0m\u001b[0;34m\u001b[0m\u001b[0m\n\u001b[0;32m----> 3\u001b[0;31m \u001b[0ms1_mean\u001b[0m \u001b[0;34m=\u001b[0m \u001b[0mnp\u001b[0m\u001b[0;34m.\u001b[0m\u001b[0mappend\u001b[0m\u001b[0;34m(\u001b[0m\u001b[0ms1_mean_l1\u001b[0m\u001b[0;34m,\u001b[0m\u001b[0ms1_mean_l2\u001b[0m\u001b[0;34m,\u001b[0m \u001b[0maxis\u001b[0m \u001b[0;34m=\u001b[0m \u001b[0;36m1\u001b[0m\u001b[0;34m)\u001b[0m\u001b[0;34m\u001b[0m\u001b[0;34m\u001b[0m\u001b[0m\n\u001b[0m\u001b[1;32m      4\u001b[0m \u001b[0mprint\u001b[0m\u001b[0;34m(\u001b[0m\u001b[0ms1_mean_l1\u001b[0m\u001b[0;34m)\u001b[0m\u001b[0;34m\u001b[0m\u001b[0;34m\u001b[0m\u001b[0m\n\u001b[1;32m      5\u001b[0m \u001b[0mprint\u001b[0m\u001b[0;34m(\u001b[0m\u001b[0ms1_mean_l2\u001b[0m\u001b[0;34m)\u001b[0m\u001b[0;34m\u001b[0m\u001b[0;34m\u001b[0m\u001b[0m\n",
      "\u001b[0;32m<__array_function__ internals>\u001b[0m in \u001b[0;36mappend\u001b[0;34m(*args, **kwargs)\u001b[0m\n",
      "\u001b[0;32m~/opt/anaconda3/envs/ee541_demo/lib/python3.8/site-packages/numpy/lib/function_base.py\u001b[0m in \u001b[0;36mappend\u001b[0;34m(arr, values, axis)\u001b[0m\n\u001b[1;32m   4743\u001b[0m         \u001b[0mvalues\u001b[0m \u001b[0;34m=\u001b[0m \u001b[0mravel\u001b[0m\u001b[0;34m(\u001b[0m\u001b[0mvalues\u001b[0m\u001b[0;34m)\u001b[0m\u001b[0;34m\u001b[0m\u001b[0;34m\u001b[0m\u001b[0m\n\u001b[1;32m   4744\u001b[0m         \u001b[0maxis\u001b[0m \u001b[0;34m=\u001b[0m \u001b[0marr\u001b[0m\u001b[0;34m.\u001b[0m\u001b[0mndim\u001b[0m\u001b[0;34m-\u001b[0m\u001b[0;36m1\u001b[0m\u001b[0;34m\u001b[0m\u001b[0;34m\u001b[0m\u001b[0m\n\u001b[0;32m-> 4745\u001b[0;31m     \u001b[0;32mreturn\u001b[0m \u001b[0mconcatenate\u001b[0m\u001b[0;34m(\u001b[0m\u001b[0;34m(\u001b[0m\u001b[0marr\u001b[0m\u001b[0;34m,\u001b[0m \u001b[0mvalues\u001b[0m\u001b[0;34m)\u001b[0m\u001b[0;34m,\u001b[0m \u001b[0maxis\u001b[0m\u001b[0;34m=\u001b[0m\u001b[0maxis\u001b[0m\u001b[0;34m)\u001b[0m\u001b[0;34m\u001b[0m\u001b[0;34m\u001b[0m\u001b[0m\n\u001b[0m\u001b[1;32m   4746\u001b[0m \u001b[0;34m\u001b[0m\u001b[0m\n\u001b[1;32m   4747\u001b[0m \u001b[0;34m\u001b[0m\u001b[0m\n",
      "\u001b[0;32m<__array_function__ internals>\u001b[0m in \u001b[0;36mconcatenate\u001b[0;34m(*args, **kwargs)\u001b[0m\n",
      "\u001b[0;31mAxisError\u001b[0m: axis 1 is out of bounds for array of dimension 1"
     ]
    }
   ],
   "source": [
    "s1_mean_l1 = s1_train_f[ind_1[0]].mean(axis=0)\n",
    "s1_mean_l2 = s1_train_f[ind_2[0]].mean(axis=0)\n",
    "s1_mean = np.stack((s1_mean_l1,s1_mean_l2))\n",
    "print(s1_mean_l1)\n",
    "print(s1_mean_l2)\n",
    "print(s1_mean)"
   ]
  },
  {
   "cell_type": "code",
   "execution_count": 265,
   "id": "54964e5e",
   "metadata": {},
   "outputs": [],
   "source": [
    "## PlotDecBoundaries\n",
    "\n",
    "import numpy as np\n",
    "import matplotlib.pyplot as plt\n",
    "from scipy.spatial.distance import cdist\n",
    "\n",
    "def plotDecBoundaries(training, label_train, sample_mean):\n",
    "\n",
    "    #Plot the decision boundaries and data points for minimum distance to\n",
    "    #class mean classifier\n",
    "    #\n",
    "    # training: traning data\n",
    "    # label_train: class lables correspond to training data\n",
    "    # sample_mean: mean vector for each class\n",
    "    #\n",
    "    # Total number of classes\n",
    "    nclass =  max(np.unique(label_train))\n",
    "\n",
    "    # Set the feature range for ploting\n",
    "    max_x = np.ceil(max(training[:, 0])) + 1\n",
    "    min_x = np.floor(min(training[:, 0])) - 1\n",
    "    max_y = np.ceil(max(training[:, 1])) + 1\n",
    "    min_y = np.floor(min(training[:, 1])) - 1\n",
    "\n",
    "    xrange = (min_x, max_x)\n",
    "    yrange = (min_y, max_y)\n",
    "\n",
    "    # step size for how finely you want to visualize the decision boundary.\n",
    "    inc = 0.005\n",
    "\n",
    "    # generate grid coordinates. this will be the basis of the decision\n",
    "    # boundary visualization.\n",
    "    (x, y) = np.meshgrid(np.arange(xrange[0], xrange[1]+inc/100, inc), np.arange(yrange[0], yrange[1]+inc/100, inc))\n",
    "\n",
    "    # size of the (x, y) image, which will also be the size of the\n",
    "    # decision boundary image that is used as the plot background.\n",
    "    image_size = x.shape\n",
    "    xy = np.hstack( (x.reshape(x.shape[0]*x.shape[1], 1, order='F'), y.reshape(y.shape[0]*y.shape[1], 1, order='F')) ) # make (x,y) pairs as a bunch of row vectors.\n",
    "\n",
    "    # distance measure evaluations for each (x,y) pair.\n",
    "    dist_mat = cdist(xy, sample_mean)\n",
    "    pred_label = np.argmin(dist_mat, axis=1)\n",
    "\n",
    "    # reshape the idx (which contains the class label) into an image.\n",
    "    decisionmap = pred_label.reshape(image_size, order='F')\n",
    "\n",
    "    #show the image, give each coordinate a color according to its class label\n",
    "    plt.imshow(decisionmap, extent=[xrange[0], xrange[1], yrange[0], yrange[1]], origin='lower')\n",
    "\n",
    "    # plot the class training data.\n",
    "    plt.plot(training[label_train == 1, 0],training[label_train == 1, 1], 'rx')\n",
    "    plt.plot(training[label_train == 2, 0],training[label_train == 2, 1], 'go')\n",
    "    if nclass == 3:\n",
    "        plt.plot(training[label_train == 3, 0],training[label_train == 3, 1], 'b*')\n",
    "\n",
    "    # include legend for training data\n",
    "    if nclass == 3:\n",
    "        l = plt.legend(('Class 1', 'Class 2', 'Class 3'), loc=2)\n",
    "    else:\n",
    "        l = plt.legend(('Class 1', 'Class 2'), loc=2)\n",
    "    plt.gca().add_artist(l)\n",
    "\n",
    "    # plot the class mean vector.\n",
    "    m1, = plt.plot(sample_mean[0,0], sample_mean[0,1], 'rd', markersize=12, markerfacecolor='r', markeredgecolor='w')\n",
    "    m2, = plt.plot(sample_mean[1,0], sample_mean[1,1], 'gd', markersize=12, markerfacecolor='g', markeredgecolor='w')\n",
    "    if nclass == 3:\n",
    "        m3, = plt.plot(sample_mean[2,0], sample_mean[2,1], 'bd', markersize=12, markerfacecolor='b', markeredgecolor='w')\n",
    "\n",
    "    # include legend for class mean vector\n",
    "    if nclass == 3:\n",
    "        l1 = plt.legend([m1,m2,m3],['Class 1 Mean', 'Class 2 Mean', 'Class 3 Mean'], loc=4)\n",
    "    else:\n",
    "        l1 = plt.legend([m1,m2], ['Class 1 Mean', 'Class 2 Mean'], loc=4)\n",
    "\n",
    "    plt.gca().add_artist(l1)\n",
    "\n",
    "    plt.show()\n"
   ]
  },
  {
   "cell_type": "code",
   "execution_count": 266,
   "id": "7a0457be",
   "metadata": {
    "scrolled": true
   },
   "outputs": [
    {
     "data": {
      "image/png": "[encoded data removed]",
      "text/plain": [
       "<Figure size 432x288 with 1 Axes>"
      ]
     },
     "metadata": {
      "needs_background": "light"
     },
     "output_type": "display_data"
    }
   ],
   "source": [
    "plotDecBoundaries(s1_train_f, s1_train_l, s1_mean)"
   ]
  },
  {
   "cell_type": "code",
   "execution_count": 267,
   "id": "2f86f70a",
   "metadata": {
    "scrolled": true
   },
   "outputs": [
    {
     "name": "stdout",
     "output_type": "stream",
     "text": [
      "Error rate for Synthetic1 train =  0.21\n"
     ]
    }
   ],
   "source": [
    "pred_train_s1_l = np.array([])\n",
    "for i in range(len(s1_train_f)):\n",
    "    d1 = np.linalg.norm(s1_train_f[i] - s1_mean_l1)\n",
    "    d2 = np.linalg.norm(s1_train_f[i] - s1_mean_l2)\n",
    "    if d1 < d2:\n",
    "        pred_train_s1_l = np.append(pred_train_s1_l, 1)\n",
    "    else:\n",
    "        pred_train_s1_l= np.append(pred_train_s1_l, 2)\n",
    "\n",
    "Error_rate_train_s1 = (np.sum(pred_train_s1_l != s1_train_l)/ pred_train_s1_l.shape[0])\n",
    "print('Error rate for Synthetic1 train = ', Error_rate_train_s1)      "
   ]
  },
  {
   "cell_type": "code",
   "execution_count": 268,
   "id": "4b4e9ae0",
   "metadata": {},
   "outputs": [
    {
     "name": "stdout",
     "output_type": "stream",
     "text": [
      "Error rate for Synthetic1 train =  0.21\n"
     ]
    }
   ],
   "source": [
    "Error_rate_train_s1 = (np.sum(pred_train_s1_l != s1_train_l)/ pred_train_s1_l.shape[0])\n",
    "print('Error rate for Synthetic1 train = ', Error_rate_train_s1)"
   ]
  },
  {
   "cell_type": "code",
   "execution_count": 269,
   "id": "98c0e492",
   "metadata": {},
   "outputs": [],
   "source": [
    "s1_test_f = df_synthetic1_test.loc[:,[0,1]].to_numpy()\n",
    "s1_test_l = df_synthetic1_test.loc[:,[2]].to_numpy().reshape(-1)"
   ]
  },
  {
   "cell_type": "code",
   "execution_count": 270,
   "id": "68423801",
   "metadata": {},
   "outputs": [
    {
     "data": {
      "image/png": "[encoded data removed]",
      "text/plain": [
       "<Figure size 432x288 with 1 Axes>"
      ]
     },
     "metadata": {
      "needs_background": "light"
     },
     "output_type": "display_data"
    }
   ],
   "source": [
    "plotDecBoundaries(s1_test_f, s1_test_l, s1_mean)"
   ]
  },
  {
   "cell_type": "code",
   "execution_count": 271,
   "id": "cf4a3250",
   "metadata": {},
   "outputs": [
    {
     "name": "stdout",
     "output_type": "stream",
     "text": [
      "[1. 1. 2. 2. 1. 1. 1. 1. 2. 1. 1. 2. 1. 1. 1. 2. 1. 2. 1. 1. 1. 1. 2. 1.\n",
      " 1. 1. 2. 2. 2. 2. 1. 1. 1. 2. 1. 2. 2. 2. 1. 2. 2. 1. 2. 1. 1. 2. 2. 1.\n",
      " 1. 2. 2. 2. 2. 1. 1. 2. 1. 2. 2. 2. 1. 1. 1. 1. 1. 2. 1. 2. 2. 1. 2. 1.\n",
      " 2. 1. 2. 1. 1. 1. 2. 1. 2. 2. 1. 1. 1. 2. 2. 2. 1. 2. 1. 2. 1. 2. 2. 1.\n",
      " 1. 1. 2. 2.]\n"
     ]
    }
   ],
   "source": [
    "pred_test_s1_l = np.array([])\n",
    "for i in range(len(s1_test_f)):\n",
    "    d1 = np.linalg.norm(s1_test_f[i] - s1_mean_l1)\n",
    "    d2 = np.linalg.norm(s1_test_f[i] - s1_mean_l2)\n",
    "    if d1 < d2:\n",
    "        pred_test_s1_l = np.append(pred_test_s1_l, 1)\n",
    "    else:\n",
    "        pred_test_s1_l= np.append(pred_test_s1_l, 2)\n",
    "\n",
    "print(pred_test_s1_l)"
   ]
  },
  {
   "cell_type": "code",
   "execution_count": 272,
   "id": "d3d74904",
   "metadata": {},
   "outputs": [
    {
     "name": "stdout",
     "output_type": "stream",
     "text": [
      "Error rate for Synthetic1 test =  0.24\n"
     ]
    }
   ],
   "source": [
    "Error_rate_test_s1 = (np.sum(pred_test_s1_l != s1_test_l)/ pred_test_s1_l.shape[0])\n",
    "print('Error rate for Synthetic1 test = ', Error_rate_test_s1)"
   ]
  },
  {
   "cell_type": "code",
   "execution_count": 273,
   "id": "3099819f",
   "metadata": {},
   "outputs": [
    {
     "data": {
      "text/plain": [
       "array([1, 2])"
      ]
     },
     "execution_count": 273,
     "metadata": {},
     "output_type": "execute_result"
    }
   ],
   "source": [
    "np.unique(s1_test_l)"
   ]
  },
  {
   "cell_type": "code",
   "execution_count": 275,
   "id": "3a649e68",
   "metadata": {},
   "outputs": [
    {
     "name": "stdout",
     "output_type": "stream",
     "text": [
      "1\n",
      "2\n",
      "6\n",
      "8\n"
     ]
    }
   ],
   "source": [
    "a = np.array([1,2,6,8])\n",
    "for i in a:\n",
    "    print(i)"
   ]
  },
  {
   "cell_type": "code",
   "execution_count": 278,
   "id": "4e7a154d",
   "metadata": {},
   "outputs": [
    {
     "data": {
      "text/plain": [
       "array([[-1.8731152 , -0.1166418 ],\n",
       "       [ 2.98095798,  0.03548129]])"
      ]
     },
     "execution_count": 278,
     "metadata": {},
     "output_type": "execute_result"
    }
   ],
   "source": [
    "s1_mean"
   ]
  },
  {
   "cell_type": "code",
   "execution_count": null,
   "id": "f269f6f6",
   "metadata": {},
   "outputs": [],
   "source": []
  }
 ],
 "metadata": {
  "kernelspec": {
   "display_name": "Python 3 (ipykernel)",
   "language": "python",
   "name": "python3"
  },
  "language_info": {
   "codemirror_mode": {
    "name": "ipython",
    "version": 3
   },
   "file_extension": ".py",
   "mimetype": "text/x-python",
   "name": "python",
   "nbconvert_exporter": "python",
   "pygments_lexer": "ipython3",
   "version": "3.8.11"
  }
 },
 "nbformat": 4,
 "nbformat_minor": 5
}
